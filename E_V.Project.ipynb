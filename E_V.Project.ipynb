{
 "cells": [
  {
   "cell_type": "markdown",
   "id": "d256867d-9273-4d83-b7a7-5d754bd306e3",
   "metadata": {},
   "source": [
    "## Task 1: A customer has a budget of 350,000 PLN and wants an EV with a minimum range"
   ]
  },
  {
   "cell_type": "code",
   "execution_count": 1,
   "id": "93b54ad1-7308-4695-a63e-8233922bc0ce",
   "metadata": {},
   "outputs": [],
   "source": [
    "import pandas as pd"
   ]
  },
  {
   "cell_type": "code",
   "execution_count": 2,
   "id": "435f4c87-4e64-4889-b1ec-0e960d2430ff",
   "metadata": {},
   "outputs": [
    {
     "name": "stdout",
     "output_type": "stream",
     "text": [
      "EVs matching customer budget and range:\n",
      "\n",
      "             Make                        Model  Price_PLN  Range\n",
      "0            Audi            e-tron 55 quattro     345700    438\n",
      "8             BMW                          iX3     282900    460\n",
      "15        Hyundai          Kona electric 64kWh     178400    449\n",
      "18            Kia                 e-Niro 64kWh     167990    455\n",
      "20            Kia                 e-Soul 64kWh     160990    452\n",
      "22  Mercedes-Benz                          EQC     334700    414\n",
      "39          Tesla  Model 3 Standard Range Plus     195490    430\n",
      "40          Tesla           Model 3 Long Range     235490    580\n",
      "41          Tesla          Model 3 Performance     260490    567\n",
      "47     Volkswagen         ID.3 Pro Performance     155890    425\n",
      "48     Volkswagen                   ID.3 Pro S     179990    549\n",
      "49     Volkswagen                     ID.4 1st     202390    500\n",
      "\n",
      "Average Battery Capacity by Make:\n",
      "\n"
     ]
    },
    {
     "data": {
      "text/plain": [
       "Make\n",
       "Audi             95.000000\n",
       "BMW              80.000000\n",
       "Hyundai          64.000000\n",
       "Kia              64.000000\n",
       "Mercedes-Benz    80.000000\n",
       "Tesla            68.000000\n",
       "Volkswagen       70.666667\n",
       "Name: Battery_capacity, dtype: float64"
      ]
     },
     "metadata": {},
     "output_type": "display_data"
    }
   ],
   "source": [
    "df = pd.read_excel(\"FEV.xlsx\")\n",
    "filtered_df= df[(df['Price_PLN']<=350000) & (df['Range']>= 400)]\n",
    "\n",
    "avg_battery= filtered_df.groupby('Make')['Battery_capacity'].mean()\n",
    "\n",
    "print(\"EVs matching customer budget and range:\\n\")\n",
    "print(filtered_df[['Make', 'Model', 'Price_PLN', 'Range']])\n",
    "\n",
    "print(\"\\nAverage Battery Capacity by Make:\\n\")\n",
    "display(avg_battery)"
   ]
  },
  {
   "cell_type": "markdown",
   "id": "ea2a7d0d-aaac-48a0-9419-38d21aecf8d0",
   "metadata": {},
   "source": [
    "## Task 2: You suspect some EVs have unusually high or low energy consumption. Find the outliers in the mean - Energy consumption [kWh/100 km] column.(16 Marks)"
   ]
  },
  {
   "cell_type": "code",
   "execution_count": 3,
   "id": "8c01f7a8-d0b0-42a3-8514-052c16698832",
   "metadata": {},
   "outputs": [
    {
     "name": "stdout",
     "output_type": "stream",
     "text": [
      "Outliers based on Energy Consumption:\n",
      "\n",
      "Lower Bound: 11.649999999999999\n",
      "Upper Bound: 27.45\n",
      "             Make             Model  mean_Energy_consumption\n",
      "2            Audi  e-tron S quattro                    27.55\n",
      "51  Mercedes-Benz        EQV (long)                    28.20\n"
     ]
    }
   ],
   "source": [
    "df_cleaned = df.dropna(subset=['mean_Energy_consumption'])\n",
    "Q1= df_cleaned['mean_Energy_consumption'].quantile(0.25)\n",
    "Q3= df_cleaned['mean_Energy_consumption'].quantile(0.75)\n",
    "IQR= Q3-Q1\n",
    "\n",
    "l_bound= Q1 - 0.5*IQR\n",
    "u_bound= Q3 + 0.5*IQR\n",
    "\n",
    "outliers= df_cleaned[(df_cleaned['mean_Energy_consumption']<l_bound) | (df_cleaned['mean_Energy_consumption']>u_bound)]\n",
    "\n",
    "print(\"Outliers based on Energy Consumption:\\n\")\n",
    "print(f\"Lower Bound: {l_bound}\")\n",
    "print(f\"Upper Bound: {u_bound}\")\n",
    "print(outliers[['Make','Model','mean_Energy_consumption']])"
   ]
  },
  {
   "cell_type": "markdown",
   "id": "0d61f1cf-ba77-494c-b1f6-867734f5720e",
   "metadata": {},
   "source": [
    "## Task 3: Your manager wants to know if there's a strong relationship between battery capacity and range."
   ]
  },
  {
   "cell_type": "code",
   "execution_count": 4,
   "id": "566a5aea-613f-4143-9581-e5d460ea6ec5",
   "metadata": {},
   "outputs": [
    {
     "name": "stdout",
     "output_type": "stream",
     "text": [
      "Relation between Battery capacity & Range: 0.81\n"
     ]
    }
   ],
   "source": [
    "correlation = df['Battery_capacity'].corr(df['Range'])\n",
    "print(f\"Relation between Battery capacity & Range: {correlation:.2f}\") "
   ]
  },
  {
   "cell_type": "code",
   "execution_count": 5,
   "id": "3805f868-917a-4d3b-a474-4a4b7af517f7",
   "metadata": {},
   "outputs": [
    {
     "data": {
      "image/png": "[encoded data removed]",
      "text/plain": [
       "<Figure size 640x480 with 1 Axes>"
      ]
     },
     "metadata": {},
     "output_type": "display_data"
    }
   ],
   "source": [
    "import matplotlib.pyplot as plt\n",
    "import seaborn as sns\n",
    "sns.scatterplot(data=df, x='Battery_capacity', y='Range')\n",
    "\n",
    "plt.title('Battery Capacity vs Range')\n",
    "\n",
    "plt.xlabel('Battery Capacity (kWh)')\n",
    "plt.ylabel('Range (km)')\n",
    "\n",
    "plt.grid(True)\n",
    "plt.show()"
   ]
  },
  {
   "cell_type": "markdown",
   "id": "e8efddba-d6a4-466b-9fa4-820b3a5fc1ba",
   "metadata": {},
   "source": [
    "## Insights - \n",
    ">Since, the correlation is 0.81 we can say that there is a strong relationship between Battery_capacity and Range.\n",
    "\n",
    ">All the scatters are going forward in an upward direction indicating more the Battery capacity more the Range."
   ]
  },
  {
   "cell_type": "markdown",
   "id": "f6236239-6159-43c3-829e-88e8e1e1a7f1",
   "metadata": {},
   "source": [
    "## Task 4: Build an EV recommendation class. The class should allow users to input their budget, desired range, and battery capacity. The class should then return the top three EVs matching their criteria."
   ]
  },
  {
   "cell_type": "code",
   "execution_count": 7,
   "id": "3df99d68-893b-4195-a34b-1ea614379153",
   "metadata": {},
   "outputs": [],
   "source": [
    "class EV_Recommendation:\n",
    "    \n",
    "    def __init__(self, dataframe):\n",
    "        self.df = dataframe.dropna(subset=['Price_PLN', 'Range', 'Battery_capacity'])\n",
    "    \n",
    "    def recommend(self, Budget, Range, Battery):\n",
    "        filtered = self.df[\n",
    "            (self.df['Price_PLN'] <= Budget) &\n",
    "            (self.df['Range'] >= Range) &\n",
    "            (self.df['Battery_capacity'] >= Battery)\n",
    "        ]\n",
    "        \n",
    "        top_ev = filtered.sort_values(by='Range', ascending=False).head(3)\n",
    "\n",
    "        return top_ev[['Make', 'Model', 'Price_PLN', 'Range', 'Battery_capacity']]"
   ]
  },
  {
   "cell_type": "code",
   "execution_count": 9,
   "id": "9eb0ad08-aea5-4a3f-948a-48b365ebed02",
   "metadata": {},
   "outputs": [
    {
     "name": "stdin",
     "output_type": "stream",
     "text": [
      "Enter Budget:  500000\n",
      "Enter min range (in km):  200\n",
      "Enter min battery capacity (in kWh):  50\n"
     ]
    },
    {
     "name": "stdout",
     "output_type": "stream",
     "text": [
      "\n",
      "Top 3 EVs based on your preferences:\n",
      "\n",
      "     Make                    Model  Price_PLN  Range  Battery_capacity\n",
      "42  Tesla  Model S Long Range Plus     368990    652             100.0\n",
      "43  Tesla      Model S Performance     443990    639             100.0\n",
      "40  Tesla       Model 3 Long Range     235490    580              75.0\n"
     ]
    }
   ],
   "source": [
    "recommendation = EV_Recommendation(df)\n",
    "\n",
    "Budget = int(input(\"Enter Budget: \"))\n",
    "Range = int(input(\"Enter min range (in km): \"))\n",
    "Battery = int(input(\"Enter min battery capacity (in kWh): \"))\n",
    "\n",
    "recommended_evs = recommendation.recommend(Budget, Range, Battery)\n",
    "\n",
    "print(\"\\nTop 3 EVs based on your preferences:\\n\")\n",
    "print(recommended_evs)\n"
   ]
  },
  {
   "cell_type": "markdown",
   "id": "872221b7-55f8-473c-9bd5-025c07ed94ed",
   "metadata": {},
   "source": [
    "## Task 5: Inferential Statistics – Hypothesis Testing: Test whether there is a significant difference in the average Engine power [KM] of vehicles manufactured by two leading manufacturers i.e. Tesla and Audi. What insights can you draw from the test results? Recommendations and Conclusion: Provide actionable insights based on your analysis. (Conduct a two sample t-test using ttest_ind from scipy.stats module)"
   ]
  },
  {
   "cell_type": "code",
   "execution_count": 10,
   "id": "9fc6aa53-1ad4-4971-ba8b-8d47a1e7609a",
   "metadata": {},
   "outputs": [],
   "source": [
    "from scipy.stats import ttest_ind"
   ]
  },
  {
   "cell_type": "code",
   "execution_count": 11,
   "id": "ccf8708e-6e50-43ae-9bdb-0356aa51f9f1",
   "metadata": {},
   "outputs": [],
   "source": [
    "tesla_p=df[df['Make'] == 'Tesla']['Power']\n",
    "audi_p=df[df['Make'] == 'Audi']['Power']\n",
    "\n",
    "tesla_p= tesla_p.dropna()\n",
    "audi_p= audi_p.dropna()"
   ]
  },
  {
   "cell_type": "code",
   "execution_count": 12,
   "id": "2568f4ca-770c-4a64-871b-3741a84c7a16",
   "metadata": {},
   "outputs": [
    {
     "name": "stdout",
     "output_type": "stream",
     "text": [
      "T_Stats: 1.7024444538261416\n",
      "P_value: 0.11672692675082785\n"
     ]
    }
   ],
   "source": [
    "t_stat, p_value = ttest_ind(tesla_p, audi_p)\n",
    "\n",
    "print('T_Stats:',t_stat)\n",
    "print('P_value:',p_value)"
   ]
  },
  {
   "cell_type": "code",
   "execution_count": 13,
   "id": "ad486cf8-0bdd-4196-ba4e-239a980c9fab",
   "metadata": {},
   "outputs": [
    {
     "name": "stdout",
     "output_type": "stream",
     "text": [
      "Fail to reject the null hypothesis: No significant diff in avg engine power between Tesla and Audi.\n"
     ]
    }
   ],
   "source": [
    "alpha = 0.05\n",
    "if p_value < alpha:\n",
    "    print(\"Reject the null hypothesis: There is a significant diff in avg engine power between Tesla and Audi.\")\n",
    "else:\n",
    "    print(\"Fail to reject the null hypothesis: No significant diff in avg engine power between Tesla and Audi.\")"
   ]
  },
  {
   "cell_type": "markdown",
   "id": "c1fd9110-94ab-4ad8-8d65-45dab8ac53e6",
   "metadata": {},
   "source": [
    "# Insights:\n",
    "\n",
    "## No statistically significant difference was found in the average engine power between Tesla and Audi vehicles.\n",
    "\n",
    "## The mean values of engine power differ, but the difference is not strong enough (statistically) to confidently say that one brand has more powerful engines than the other. \n",
    "\n",
    "## The t-statistic = 1.70 suggests a difference, but the p-value = 0.1167 tells us that the difference could easily be due to random chance."
   ]
  },
  {
   "cell_type": "markdown",
   "id": "258e86f1-7961-4cb3-bb0f-d42ec1939431",
   "metadata": {},
   "source": [
    "# Recommendations: \n",
    "\n",
    "## Engine power cannot be the only deciding factor between Tesla and Audi if we're comparing their performance.(Consider other features like efficiency, acceleration, range & etc)\n"
   ]
  },
  {
   "cell_type": "code",
   "execution_count": null,
   "id": "3601d789-3750-4837-9e3f-41f3ba4722f7",
   "metadata": {},
   "outputs": [],
   "source": []
  }
 ],
 "metadata": {
  "kernelspec": {
   "display_name": "Python 3 (ipykernel)",
   "language": "python",
   "name": "python3"
  },
  "language_info": {
   "codemirror_mode": {
    "name": "ipython",
    "version": 3
   },
   "file_extension": ".py",
   "mimetype": "text/x-python",
   "name": "python",
   "nbconvert_exporter": "python",
   "pygments_lexer": "ipython3",
   "version": "3.12.7"
  }
 },
 "nbformat": 4,
 "nbformat_minor": 5
}
